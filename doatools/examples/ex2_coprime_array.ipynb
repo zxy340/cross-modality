{
 "cells": [
  {
   "cell_type": "markdown",
   "metadata": {},
   "source": [
    "# Resolve more sources than the number of sensors using a co-prime array"
   ]
  },
  {
   "cell_type": "code",
   "execution_count": null,
   "metadata": {},
   "outputs": [],
   "source": [
    "import sys\n",
    "sys.path.append(\"..\")\n",
    "import numpy as np\n",
    "import doatools.model as model\n",
    "import doatools.estimation as estimation\n",
    "import doatools.plotting as doaplt\n",
    "import matplotlib.pyplot as plt\n",
    "%matplotlib inline"
   ]
  },
  {
   "cell_type": "code",
   "execution_count": null,
   "metadata": {},
   "outputs": [],
   "source": [
    "np.random.seed(113)\n",
    "\n",
    "wavelength = 1.0 # normalized\n",
    "d0 = wavelength / 2\n",
    "# This co-prime array only have 9 elements.\n",
    "cpa = model.CoPrimeArray(3, 4, d0)\n",
    "# However, we have 10 sources here.\n",
    "sources = model.FarField1DSourcePlacement(\n",
    "    np.linspace(-np.pi/3, np.pi/3, 10)\n",
    ")\n",
    "# SNR = 0 dB\n",
    "power_source = 1.0 # Sources share the same power.\n",
    "power_noise = 1.0\n",
    "n_snapshots = 100\n",
    "\n",
    "# Generate snapshots according to the stochastic model.\n",
    "source_signal = model.ComplexStochasticSignal(sources.size, power_source)\n",
    "noise_signal = model.ComplexStochasticSignal(cpa.size, power_noise)\n",
    "y, R = model.get_narrowband_snapshots(\n",
    "    cpa, sources, wavelength, source_signal, noise_signal,\n",
    "    n_snapshots, return_covariance=True\n",
    ")\n",
    "\n",
    "# Prepare the search grid.\n",
    "grid = estimation.FarField1DSearchGrid(size=720)"
   ]
  },
  {
   "cell_type": "markdown",
   "metadata": {},
   "source": [
    "## Apply MVDR directly\n",
    "\n",
    "We assume that the number of sources is known."
   ]
  },
  {
   "cell_type": "code",
   "execution_count": null,
   "metadata": {},
   "outputs": [],
   "source": [
    "mvdr = estimation.MVDRBeamformer(cpa, wavelength, grid)\n",
    "resv_mvdr, est_mvdr, sp_mvdr = mvdr.estimate(R, sources.size, return_spectrum=True)\n",
    "\n",
    "plt.figure()\n",
    "ax = plt.subplot(1, 1, 1)\n",
    "doaplt.plot_spectrum({'MVDR': sp_mvdr}, grid, ax=ax, ground_truth=sources)\n",
    "ax.set_title('MVDR beamformer')\n",
    "plt.show()"
   ]
  },
  {
   "cell_type": "markdown",
   "metadata": {},
   "source": [
    "## Use SS-MUSIC and DA-MUSIC\n",
    "\n",
    "We assume that the number of sources is known."
   ]
  },
  {
   "cell_type": "code",
   "execution_count": null,
   "metadata": {},
   "outputs": [],
   "source": [
    "acm_builder = estimation.CoarrayACMBuilder1D(cpa)\n",
    "virtual_ula = acm_builder.get_virtual_ula()\n",
    "\n",
    "Rss = acm_builder.transform(R, 'ss')\n",
    "Rda = acm_builder.transform(R, 'da')\n",
    "music = estimation.MUSIC(virtual_ula, wavelength, grid)\n",
    "resv_ss, est_ss, sp_ss = music.estimate(Rss, sources.size, return_spectrum=True)\n",
    "resv_da, est_da, sp_da = music.estimate(Rda, sources.size, return_spectrum=True)\n",
    "\n",
    "plt.figure(figsize=(6, 6))\n",
    "ax = plt.subplot(2, 1, 1)\n",
    "doaplt.plot_spectrum({'SS-MUSIC': sp_ss}, grid, ax=ax, ground_truth=sources)\n",
    "ax.set_title('SS-MUSIC')\n",
    "ax = plt.subplot(2, 1, 2)\n",
    "doaplt.plot_spectrum({'DA-MUSIC': sp_da}, grid, ax=ax, ground_truth=sources)\n",
    "ax.set_title('DA-MUSIC')\n",
    "plt.tight_layout()\n",
    "plt.show()"
   ]
  },
  {
   "cell_type": "markdown",
   "metadata": {},
   "source": [
    "## Use sparse recovery"
   ]
  },
  {
   "cell_type": "code",
   "execution_count": null,
   "metadata": {},
   "outputs": [],
   "source": [
    "scm = estimation.SparseCovarianceMatching(\n",
    "    cpa, wavelength, grid, formulation='penalizedl1'\n",
    ")\n",
    "# Regularization parameter.\n",
    "l = 8.0\n",
    "resv_sr, est_sr, sp_sr = scm.estimate(\n",
    "    R, sources.size, l, return_spectrum=True\n",
    ")\n",
    "\n",
    "plt.figure()\n",
    "ax = plt.subplot(1, 1, 1)\n",
    "doaplt.plot_spectrum({'Sparse': sp_sr}, grid, ax=ax, ground_truth=sources)\n",
    "ax.set_title('Sparse recovery')\n",
    "plt.show()"
   ]
  }
 ],
 "metadata": {
  "kernelspec": {
   "display_name": "Python 3",
   "language": "python",
   "name": "python3"
  },
  "language_info": {
   "codemirror_mode": {
    "name": "ipython",
    "version": 3
   },
   "file_extension": ".py",
   "mimetype": "text/x-python",
   "name": "python",
   "nbconvert_exporter": "python",
   "pygments_lexer": "ipython3",
   "version": "3.6.6"
  }
 },
 "nbformat": 4,
 "nbformat_minor": 2
}